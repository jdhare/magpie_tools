{
 "cells": [
  {
   "cell_type": "markdown",
   "metadata": {},
   "source": [
    "# Fitting Thomson Scattering Spectrum"
   ]
  },
  {
   "cell_type": "code",
   "execution_count": null,
   "metadata": {},
   "outputs": [],
   "source": [
    "%matplotlib inline\n",
    "import ts_analysis as TsA\n",
    "import matplotlib.pyplot as plt\n",
    "import os\n",
    "import numpy as np"
   ]
  },
  {
   "cell_type": "markdown",
   "metadata": {},
   "source": [
    "# s0823_18 g23"
   ]
  },
  {
   "cell_type": "markdown",
   "metadata": {},
   "source": [
    "### 1A: Load data and determine fibre positions on spectrometer CCD\n",
    "First, you need to provide raw data in the form of a .asc file (plain ASCII, tab delimited) exported by Andor Solis for both the high power background and the shot. The background is used to calibrate the fibres. You can provide as many background files as you wish - the raw images are summed together. This is especially useful if you have pin scattering measurements for individual fibres, as the signal to noise ratio is far better than the high power background where the light scatters off particles in the vacuum chamber. To create a Thomson Scattering Analysis object, we use:\n",
    "\n",
    "`ts=TsA.TS_Analysis('folder/shot_filename.asc',['folder/background_file1.asc','folder/background_file2.asc'])`\n",
    "\n",
    "`ts` is an object that knows about the data in the files. `ts` starts by asking you where the fibre edges are. A graph appears on the screen with two sliders labelled `spacing` and `offset`. `spacing` is the number of pixels per fibres and `offset` is where the first fibre begins. Move the sliders so that the red dots lie in between each fibre in the minima. It is difficult to get the red dots perfect for every fibre, but this only amounts to an error of 1 pixel, so it is not significant.\n"
   ]
  },
  {
   "cell_type": "code",
   "execution_count": null,
   "metadata": {},
   "outputs": [],
   "source": [
    "folder=r\"example_data\"\n",
    "shot_fn='g023.asc'\n",
    "bk_fn='gain3000slit120um.asc'\n",
    "ts=TsA.TS_Analysis(folder, shot_fn,[bk_fn])\n",
    "#You can write the correct spacing and offset here to remind yourself what to use when you rerun the code:\n",
    "#spacing 55, offset 132\n",
    "\n",
    "ts.find_fibre_edges()"
   ]
  },
  {
   "cell_type": "markdown",
   "metadata": {},
   "source": [
    "### 1B: Specify fibre angles and split CCD into separate fibres\n",
    "Once we have told `ts` where the fibre edges are, it can split the background and shot images into fibres and average over the pixels that correspond to each fibre:\n",
    "\n",
    "`split_into_fibres(discard_rows=6, dark_counts = None, dark_x=300, intensity_x=60, fibres = 28):` \n",
    "\n",
    "* Discard rows is useful to get rid of low signal:noise ratio rows at the top and bottom of each fibre. You can discard the first and last n rows of each fibre to avoid averaging over this noise.\n",
    "* dark_counts allows you to manually set the dark counts on the CCD. In this example, we find the dark counts in a small square in the top left where there is no signal.\n",
    "* if you set dark_counts to None, you need to set dark_x, and the code will take the average dark counts in a strip [:,:x] and [:, -x:]. If you have no dark strips (for example, with the new spectrometer), use dark_counts instead.\n",
    "* intensity_x is used to normalise the fibres, using the intensity in [mx-intensity_x:mx+intensity_x], where mx is the centre of the CCD. So if your signal is in a narrow region, like with IAW, use intensity_x=60 or so. For EPW the entire width of the CCD, so 250 or so.\n",
    "* fibres: set the number of fibres you can see on the CCD. Usually 14 or 28.\n",
    "\n",
    "`ts.zero_fibres(upper=1150, lower=850)` Trim the data to the edge of the active CCD region. Defaults are for IAW on the old spectrometer. This example file for EPW uses the entire CCD.\n",
    "\n",
    "`ts.pair_fibres(a_angle,b_angle)` pair the background and shot fibres together, assign an angle to each fibre bundle. a_angle and b_angle are lists of angles which are N fibres long, eg. [45,45...] "
   ]
  },
  {
   "cell_type": "code",
   "execution_count": null,
   "metadata": {},
   "outputs": [],
   "source": [
    "dark_counts=int(ts.shot[:100,:100].mean())\n",
    "\n",
    "ts.split_into_fibres(discard_rows=10, dark_counts=dark_counts, dark_x=None, intensity_x=250, fibres=14)\n",
    "\n",
    "ts.zero_fibres(upper=1024, lower=0)\n",
    "a_angle=[24]*7 #here we have fibres 1A through 7A at an angle of 24'\n",
    "b_angle=[90]*7 #here we have fibres 1B through 7B at an angle of 24'\n",
    "ts.pair_fibres(a_angle,b_angle)"
   ]
  },
  {
   "cell_type": "markdown",
   "metadata": {},
   "source": [
    "## 2. Determine notch\n",
    "\n",
    "We want to filter out the 'parasitic' or 'stray' light and the ion feature, which are close to the unshifted wavelength. To do this, we define a synthetic notch filter, which is applied to both the data and the model. You can test what size notch is useful below."
   ]
  },
  {
   "cell_type": "code",
   "execution_count": null,
   "metadata": {},
   "outputs": [],
   "source": [
    "f=ts.select_fibre(4,'A')\n",
    "\n",
    "fig,ax=plt.subplots()\n",
    "ax.plot(f.shot)\n",
    "\n",
    "notch=np.ones_like(f.shot)\n",
    "notch[440:550]=0 #edit the indices of this array to see the notch below\n",
    "ax.plot(f.shot*notch)"
   ]
  },
  {
   "cell_type": "markdown",
   "metadata": {},
   "source": [
    "## 3: Fit spectra\n",
    "- Specify the fibre to fit using Fnum=(1-14) and Fset=('A' or 'B') (note quote marks)\n",
    "\n",
    "- Leave the model as 'nLTE', no other models are currently implemented.\n",
    "\n",
    "- Specify the plasma parameters in the form (Values, Independent?, Minimum value)\n",
    "\n",
    "- If Independent is True, then the value is fixed and minimum has no meaning. If Independent is False, then the value is an initial guess for the fit and minimum is either a float, or simply ommitted to specify no given minimum.\n",
    "\n",
    "- Leave A in brackets, eg 'A':  ((12), True). The code will find the relevant nLTE data for Z, T_e and decompose ZT_e into Z and T_e separately.\n",
    "\n",
    "Once you've fitted the data, the code will remember the fit parameters it used, and instead of refitting you can simply plot or export the data using the next cells."
   ]
  },
  {
   "cell_type": "markdown",
   "metadata": {},
   "source": [
    "### Fibre 4A"
   ]
  },
  {
   "cell_type": "code",
   "execution_count": null,
   "metadata": {},
   "outputs": [],
   "source": [
    "Fnum=4\n",
    "Fset='A'\n",
    "\n",
    "plasma_parameters={ 'model': 'electron',\n",
    "                    'n_e': (3e17,False,1e16),#in cm^-3, must be specified\n",
    "                    'T_e': (8.6, False,0.5),#In electron volts. \n",
    "                    'V_fe':(0, True),#m/s.\n",
    "                    'stray':(0, True,0), #Fraction of signal made up of stray light. >0, <1.0!!\n",
    "                    'amplitude': (3e3, False,0), #Fraction of signal made up of spectrum.\n",
    "                    'offset': (0, False), #\n",
    "                    'shift': (0, True)\n",
    "                    }\n",
    "\n",
    "'''This code fits and plots the result'''\n",
    "f=ts.select_fibre(Fnum,Fset)\n",
    "f.voigt_response(gamma=5e-11,sigma=6e-11)\n",
    "f.symmetric_crop_around_l0()\n",
    "\n",
    "notch=np.ones_like(f.shot)\n",
    "notch[430:550]=0\n",
    "\n",
    "f.fit_fibre(plasma_parameters, interpolation_scale=50, notch=notch)\n",
    "f.calculate_alpha()\n",
    "ts.pretty_plot(Fnum,Fset, tm=1.6, sr=100) #you can change the angstrom range plotted by altering 'sr=' here.\n",
    "print(f.skw_res.fit_report()) #this prints the fitted values and the fit quality\n",
    "\n",
    "ts.ax.set_ylim([0,5e3])#\n",
    "ts.ax.set_xticks([-100,-50,0,50,100]);"
   ]
  },
  {
   "cell_type": "markdown",
   "metadata": {},
   "source": [
    "### Fibre 4B"
   ]
  },
  {
   "cell_type": "code",
   "execution_count": null,
   "metadata": {},
   "outputs": [],
   "source": [
    "Fnum=4\n",
    "Fset='B'\n",
    "\n",
    "plasma_parameters={ 'model': 'electron',\n",
    "                    'n_e': (3e17,False,1e16),#in cm^-3, must be specified\n",
    "                    'T_e': (5, False,0.5),#In electron volts. \n",
    "                    'V_fe':(0, True),#m/s.\n",
    "                    'stray':(0, True,0), #Fraction of signal made up of stray light. >0, <1.0!!\n",
    "                    'amplitude': (3e3, False,0), #Fraction of signal made up of spectrum.\n",
    "                    'offset': (0, False), #\n",
    "                    'shift': (0, True)\n",
    "                    }\n",
    "\n",
    "'''This code fits and plots the result'''\n",
    "f=ts.select_fibre(Fnum,Fset)\n",
    "f.voigt_response(gamma=5e-11,sigma=6e-11)\n",
    "f.symmetric_crop_around_l0()\n",
    "\n",
    "notch=np.ones_like(f.shot)\n",
    "notch[430:550]=0\n",
    "\n",
    "f.fit_fibre(plasma_parameters, interpolation_scale=50, notch=notch)\n",
    "f.calculate_alpha()\n",
    "ts.pretty_plot(Fnum,Fset, tm=1.6, sr=100) #you can change the angstrom range plotted by altering 'sr=' here.\n",
    "print(f.skw_res.fit_report()) #this prints the fitted values and the fit quality\n",
    "\n",
    "ts.ax.set_ylim([0,5e3])#\n",
    "ts.ax.set_xticks([-100,-50,0,50,100]);"
   ]
  },
  {
   "cell_type": "markdown",
   "metadata": {},
   "source": [
    "### 3A: Plot data\n",
    "If you've already fitted a fibre and simply want to see the fit again without refitting, use the cell below. You can then save the figure using the next cell. You can change the range of the horizontal access by altering sr=, which is in Angstroms"
   ]
  },
  {
   "cell_type": "code",
   "execution_count": null,
   "metadata": {},
   "outputs": [],
   "source": [
    "ts.pretty_plot(Fnum=4,Fset='A', tm=1.6, sr=6)\n",
    "ts.ax.set_ylim([0,7e4])#\n",
    "ts.ax.set_xticks([-100,-50,0,50,100]);"
   ]
  },
  {
   "cell_type": "markdown",
   "metadata": {},
   "source": [
    "### 3B: Save plot\n",
    "This saves whichever figure you have generated last, either by fitting (2) or using the plot data cell (3A) above. You can alter the filename"
   ]
  },
  {
   "cell_type": "code",
   "execution_count": null,
   "metadata": {},
   "outputs": [],
   "source": [
    "ts.fig.savefig(ts.s_name+' fibre '+str(Fnum)+Fset+'.png')"
   ]
  },
  {
   "cell_type": "markdown",
   "metadata": {},
   "source": [
    "### 4: Export data\n",
    "Save out the fits so you can plot them in another plotting program. Specify the fibre number and the fibre set."
   ]
  },
  {
   "cell_type": "code",
   "execution_count": null,
   "metadata": {},
   "outputs": [],
   "source": [
    "for Fnum in [1,2,3,4,5,6,7]:\n",
    "    f=ts.select_fibre(Fnum,'A')\n",
    "    f.export_data('g23 '+str(Fnum)+'E')\n",
    "    f=ts.select_fibre(Fnum,'B')\n",
    "    f.export_data('g23 '+str(Fnum)+'F')"
   ]
  },
  {
   "cell_type": "code",
   "execution_count": null,
   "metadata": {},
   "outputs": [],
   "source": [
    "import csv\n",
    "def export_fit_parameters(fibres, fn):\n",
    "    n_e=[]\n",
    "    n_e_err=[]\n",
    "    T_e=[]\n",
    "    T_e_err=[]\n",
    "    \n",
    "    headings=('Fibre', 'n_e', 'n_e_err', 'T_e ', 'T_e_err')\n",
    "    units=('-', ' cm^-3', ' cm^-3','eV','eV')\n",
    "    with open(fn+'.dat', 'w',newline='') as file:\n",
    "        writer = csv.writer(file)\n",
    "        writer.writerow(headings)\n",
    "        writer.writerow(units)\n",
    "        for i,fibre in enumerate(fibres):\n",
    "            try:\n",
    "                n_e=fibre.skw_res.params['n_e']\n",
    "                n_e_err=n_e.stderr\n",
    "                n_e=n_e.value\n",
    "            except:\n",
    "                n_e=fibre.params['n_e'] \n",
    "                n_e_err=0\n",
    "            try:\n",
    "                T_e=fibre.skw_res.params['T_e']\n",
    "                T_e_err=T_e.stderr\n",
    "                T_e=T_e.value\n",
    "            except:\n",
    "                T_e=fibre.params['T_e']\n",
    "                T_e_err=0\n",
    "            row=[i,n_e,n_e_err,T_e,T_e_err]\n",
    "            writer.writerow(row)       "
   ]
  },
  {
   "cell_type": "code",
   "execution_count": null,
   "metadata": {},
   "outputs": [],
   "source": [
    "export_fit_parameters(ts.fibres_a, fn='g23 E fibre fit parameters')\n",
    "export_fit_parameters(ts.fibres_b, fn='g23 F fibre fit parameters')"
   ]
  },
  {
   "cell_type": "markdown",
   "metadata": {},
   "source": [
    "### 5A: Plot all the A fibre data"
   ]
  },
  {
   "cell_type": "code",
   "execution_count": null,
   "metadata": {
    "scrolled": false
   },
   "outputs": [],
   "source": [
    "for i in range(1,8):\n",
    "    ts.plot_data(Fnum=i, Fset='A', sr=50)"
   ]
  },
  {
   "cell_type": "markdown",
   "metadata": {},
   "source": [
    "### 5B: Plot all the B fibre data"
   ]
  },
  {
   "cell_type": "code",
   "execution_count": null,
   "metadata": {
    "scrolled": false
   },
   "outputs": [],
   "source": [
    "for i in range(1,7):\n",
    "    ts.plot_data(Fnum=i, Fset='B',sr=50)"
   ]
  },
  {
   "cell_type": "code",
   "execution_count": null,
   "metadata": {},
   "outputs": [],
   "source": []
  }
 ],
 "metadata": {
  "kernelspec": {
   "display_name": "Python 3",
   "language": "python",
   "name": "python3"
  },
  "language_info": {
   "codemirror_mode": {
    "name": "ipython",
    "version": 3
   },
   "file_extension": ".py",
   "mimetype": "text/x-python",
   "name": "python",
   "nbconvert_exporter": "python",
   "pygments_lexer": "ipython3",
   "version": "3.7.6"
  },
  "name": "Spectra_fitting_s0611_15.ipynb",
  "widgets": {
   "state": {
    "eaba84c862ba44aa81c4748adcdcb5f6": {
     "views": [
      {
       "cell_index": 4
      }
     ]
    }
   },
   "version": "1.2.0"
  }
 },
 "nbformat": 4,
 "nbformat_minor": 1
}
