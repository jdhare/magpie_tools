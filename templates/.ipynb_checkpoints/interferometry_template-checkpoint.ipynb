{
 "cells": [
  {
   "cell_type": "code",
   "execution_count": null,
   "metadata": {
    "scrolled": true
   },
   "outputs": [],
   "source": [
    "%load_ext autoreload\n",
    "%autoreload 2\n",
    "\n",
    "%matplotlib notebook\n",
    "import numpy as np\n",
    "import matplotlib.pyplot as plt\n",
    "from mpl_toolkits.axes_grid1 import make_axes_locatable\n",
    "from mpl_toolkits.axes_grid1.colorbar import colorbar\n",
    "from matplotlib.ticker import MultipleLocator\n",
    "\n",
    "import pickle\n",
    "from magpie_data import NeLMap, Interferogram\n",
    "import os"
   ]
  },
  {
   "cell_type": "markdown",
   "metadata": {},
   "source": [
    "# Interferometry\n",
    "\n",
    "### How to use this template\n",
    "\n",
    "This template is both a tutorial and a repository of useful code blocks. In it you will find out how to:\n",
    "* Plot raw interferograms\n",
    "* Assign a scale, origin and region of interest\n",
    "* Plot electron density maps\n",
    "* Take lineouts\n",
    "* Annotate using circles and text\n",
    "* Create images with multiple plots"
   ]
  },
  {
   "cell_type": "markdown",
   "metadata": {},
   "source": [
    "We will start with the raw interferograms\n",
    "\n",
    "#### 1. Folder where data is stored\n",
    "On Windows, you can shift+right-click a folder and choose \"Copy as Path\". Here we use the data in the example folder of this repo."
   ]
  },
  {
   "cell_type": "code",
   "execution_count": null,
   "metadata": {},
   "outputs": [],
   "source": [
    "%cd \"example_data\""
   ]
  },
  {
   "cell_type": "markdown",
   "metadata": {},
   "source": [
    "#### 2. Filenames\n",
    "Load a raw interferogram. This uses the example data from s1006_15, which is end on interferometry at 532 nm.\n",
    "\n",
    "I recommend opening a pre-shot shadow image in Photoshop. \n",
    "\n",
    "First determine if the image needs to be flipped. This is useful for diagnostics which share an imaging path and use a beamsplitter: for example, the 532 nm/ 355 nm interferometry, or the interferometry and the fast frame camera. Use flip_lr = True to flip around a vertical line running through the centre of the image. In this example, we don't flip, but we will use it later for the 355 nm. Perform the flip in photoshop, so you can use that image to determine rotation and origin.\n",
    "\n",
    "Secondly, determine the rotation. Here you can use a straight edge in your hardware and the photoshop ruler tool to determine the rotation angle that rotates the image onto your desired coordinate system. For example, here the image is rotated by -90 (or 90 clockwise) so that X is the horizontal and Y is the vertical axis. You may need to rotate by eg -91 to account for a slight misalignment. Rotate the image in photoshop as well.\n",
    "\n",
    "You can also determine the scale in Photoshop - pick two points which you know the separation between in mm, say from a CAD model, and measure the separation in pixels. Then set the scale as pixels per mm."
   ]
  },
  {
   "cell_type": "code",
   "execution_count": null,
   "metadata": {},
   "outputs": [],
   "source": [
    "fn = 's1006_15 532nm end on interferometry levels.JPG'\n",
    "rot = -90\n",
    "scale = 173\n",
    "s1006_15_532_if = Interferogram(fn, scale=scale, rot_angle=rot, flip_lr=False) #this creates an interferogram object\n",
    "s = s1006_15_532_if #we use s as a shortcut\n",
    "\n",
    "fig, ax = plt.subplots(figsize=(6,8))\n",
    "s.plot_data_px(ax=ax) # the DataMap object provides a function to plot the raw data, which is inherited by Interferogram\n",
    "fig.tight_layout()"
   ]
  },
  {
   "cell_type": "markdown",
   "metadata": {},
   "source": [
    "#### 3. Set origin and extent\n",
    "\n",
    "IMPORTANT NOTE: To ensure consistency with matplotlib and arrays, we use (vertical, horizontal) as the coordinate system, where the pixel origin is in the top left of the image. This is in contrast the usual physics convention of (horizontal, vertical) and an origin in the bottom right. Fortunately, Photoshop uses the same origin convention, which helps a lot.\n",
    "\n",
    "Using photoshop on your (flipped and) rotated image, choose the origin of your image in pixel coordinates. This will be the origin (0,0) of the image in physical coordinates (eg mm). You may need to use the ruler tool and several points to determine this - for the reconnection hardware in our example, I have two parallel straight edges, and I take the average of several measurements to determine x and y. You could try and work out the origin using the figure above as well, at least as a check!\n",
    "\n",
    "Then determine how much of the original image you want to keep, in mm. This can take a bit of trial and error, as if you select a region which is out of bounds, the code currently does some odd things. Use verbose  = True to check the pixels you are asking for are inside the array."
   ]
  },
  {
   "cell_type": "code",
   "execution_count": null,
   "metadata": {},
   "outputs": [],
   "source": [
    "s.set_origin(origin=(2305,1411), extent=[-11.5,11.5,-8,8], verbose = True)\n",
    "\n",
    "fig, ax = plt.subplots(figsize=(6,8))\n",
    "s.plot_data_mm(ax=ax) # the DataMap object provides a function to plot the cropped data, which is inherited by Interferogram\n",
    "\n",
    "ax.set_xlabel('x [mm]')\n",
    "ax.set_ylabel('y [mm]')\n",
    "ax.set_title('Raw interferogram from '+s.fn)\n",
    "\n",
    "fig.tight_layout()"
   ]
  },
  {
   "cell_type": "markdown",
   "metadata": {},
   "source": [
    "#### 4. Electron density maps\n",
    "\n",
    "IMPORTANT NOTE: First unzip s1006_15 532nm neL.zip into the example_data folder.\n",
    "\n",
    "Now we use all of the image rotation etc for the electron density map. The arguments are the same as used for the interferometry, but we also have multiply_by, which can be used to convert $n_e L$ into $n_e$ by dividing by some length scale L, which here is 1.6 cm."
   ]
  },
  {
   "cell_type": "code",
   "execution_count": null,
   "metadata": {},
   "outputs": [],
   "source": [
    "fn = 's1006_15 532nm neL.txt'\n",
    "s1006_15_532=NeLMap(fn, scale=scale, rot_angle=rot, flip_lr = False,  multiply_by=1/1.6)\n",
    "s = s1006_15_532 #we use s as a shortcut\n",
    "\n",
    "fig, ax = plt.subplots(figsize=(6,8))\n",
    "s.plot_data_px(ax=ax) # the DataMap object provides a function to plot the raw data, which is inherited by Interferogram\n",
    "fig.tight_layout()"
   ]
  },
  {
   "cell_type": "markdown",
   "metadata": {},
   "source": [
    "Now we simply copy the same origin and extent over and use them here.\n",
    "\n",
    "For plotting, we can scale by 1e-18 so that the colour bar looks nice, and set the limits using clim. Note that the scaling in s.plot_data_mm does not alter the data."
   ]
  },
  {
   "cell_type": "code",
   "execution_count": null,
   "metadata": {},
   "outputs": [],
   "source": [
    "s.set_origin(origin=(2305,1411), extent=[-11.5,11.5,-8,8], verbose = True)\n",
    "\n",
    "fig, ax = plt.subplots(figsize=(6,8))\n",
    "im = s.plot_data_mm(ax=ax, multiply_by = 1e-18, clim=[0,2])\n",
    "\n",
    "ax.set_xlabel('x [mm]')\n",
    "ax.set_ylabel('y [mm]')\n",
    "ax.set_title('Electron density map from '+s.fn)\n",
    "\n",
    "ax_divider = make_axes_locatable(ax)\n",
    "# add an axes to the right of the main axes.\n",
    "cax = ax_divider.append_axes(\"right\", size=\"2%\", pad=\"1%\")\n",
    "cb = colorbar(im, cax=cax, ticks=[0,1 ,2])\n",
    "cb.set_label_text(r'$n_e$ ($\\times$ 10$^{18}$ cm$^{-3}$)',fontsize=10)\n",
    "cb.ax.tick_params(labelsize=10, pad=5, length=6, width=1, direction = 'in')\n",
    "\n",
    "#fig.tight_layout()"
   ]
  },
  {
   "cell_type": "markdown",
   "metadata": {},
   "source": [
    "#### 5. Diptych\n",
    "It can be interesting to plot the raw interferogram and the electron density map side by side:"
   ]
  },
  {
   "cell_type": "code",
   "execution_count": null,
   "metadata": {},
   "outputs": [],
   "source": [
    "fig, (ax1, ax2) = plt.subplots(1,2, figsize=(8,5), sharex = True, sharey = True)\n",
    "\n",
    "s1006_15_532_if.plot_data_mm(ax=ax1) # the DataMap object provides a function to plot the cropped data, which is inherited by Interferogram\n",
    "\n",
    "ax1.set_xlabel('x [mm]')\n",
    "ax1.set_ylabel('y [mm]')\n",
    "ax1.set_title('Raw interferogram from '+s.fn, fontsize=10)\n",
    "\n",
    "im = s1006_15_532.plot_data_mm(ax=ax2, multiply_by = 1e-18, clim=[0,2])\n",
    "\n",
    "ax2.set_xlabel('x [mm]')\n",
    "\n",
    "ax2.set_title('Electron density map from '+s.fn, fontsize=10)\n",
    "\n",
    "ax_divider = make_axes_locatable(ax2)\n",
    "# add an axes to the right of the main axes.\n",
    "cax = ax_divider.append_axes(\"right\", size=\"4%\", pad=\"1%\")\n",
    "cb = colorbar(im, cax=cax, ticks=[0,1 ,2])\n",
    "cb.set_label_text(r'$n_e$ ($\\times$ 10$^{18}$ cm$^{-3}$)',fontsize=10)\n",
    "cb.ax.tick_params(labelsize=10, pad=5, length=6, width=1, direction = 'in')\n"
   ]
  },
  {
   "cell_type": "markdown",
   "metadata": {},
   "source": [
    "#### 6. Annotations\n",
    "\n",
    "It can be helpful to add annotations, for example text, and the locations of wires and Thomson scattering volumes. The following shows how to do this with several examples. We start with the diptych above."
   ]
  },
  {
   "cell_type": "code",
   "execution_count": null,
   "metadata": {},
   "outputs": [],
   "source": [
    "fig, (ax1, ax2) = plt.subplots(1,2, figsize=(8,5), sharex = True, sharey = True)\n",
    "\n",
    "s1006_15_532_if.plot_data_mm(ax=ax1) # the DataMap object provides a function to plot the cropped data, which is inherited by Interferogram\n",
    "\n",
    "ax1.set_xlabel('x [mm]')\n",
    "ax1.set_ylabel('y [mm]')\n",
    "\n",
    "im = s1006_15_532.plot_data_mm(ax=ax2, multiply_by = 1e-18, clim=[0,2])\n",
    "\n",
    "ax2.set_xlabel('x [mm]')\n",
    "\n",
    "\n",
    "ax_divider = make_axes_locatable(ax2)\n",
    "# add an axes to the right of the main axes.\n",
    "cax = ax_divider.append_axes(\"right\", size=\"4%\", pad=\"1%\")\n",
    "cb = colorbar(im, cax=cax, ticks=[0,1 ,2])\n",
    "cb.set_label_text(r'$n_e$ ($\\times$ 10$^{18}$ cm$^{-3}$)',fontsize=10)\n",
    "cb.ax.tick_params(labelsize=10, pad=5, length=6, width=1, direction = 'in')\n",
    "\n",
    "##### Annotations #####\n",
    "\n",
    "#### Wire Locations\n",
    "\n",
    "th=np.linspace(-360/32*3,360/32*3,4) # angles\n",
    "for t in th:\n",
    "    for a in (ax1, ax2):\n",
    "        c= plt.Circle((-13.5+8*np.cos(t*np.pi/180),8*np.sin(t*np.pi/180)), 0.2, color='r')\n",
    "        a.add_artist(c)\n",
    "        c= plt.Circle((13.5-8*np.cos(t*np.pi/180),8*np.sin(t*np.pi/180)), 0.2, color='r')\n",
    "        a.add_artist(c)\n",
    "        \n",
    "#### Text        \n",
    "ax1.text(x=0.0, y=0.99, va='top',ha='left',s=r' a) Raw interferogram 223 ns', color='white',fontsize=10, transform=ax1.transAxes)\n",
    "ax2.text(x=0.0, y=0.99, va='top',ha='left',s=r' b) Electron density 223 ns', color='white',fontsize=10,transform=ax2.transAxes)\n",
    "\n",
    "ax1.text(x=1, y=0.0, va='bottom',ha='right',s=r's1006_15', color='white',fontsize=6,transform=ax1.transAxes)\n",
    "\n",
    "#### Thomson scattering\n",
    "\n",
    "angle = 22.5 * np.pi/180 #degrees to vertical\n",
    "spacing = 0.6 #space between fibres in mm\n",
    "spot_size = 0.2 #spot size in mm, set by fibres and laser beam - really this should be not a circle!\n",
    "f7 = (0.5, 0.1) #location of fibre 7 in mm\n",
    "fx = [f7[1] - i*spacing*np.sin(angle) for i in range(-7,7)]\n",
    "fy = [f7[0] - i*spacing*np.cos(angle) for i in range(-7,7)]\n",
    "\n",
    "for i in range(0,14):\n",
    "    color = 'g'\n",
    "    if i == 6: #color fibre 7 for easy spotting\n",
    "        color = 'r'\n",
    "    c= plt.Circle((fx[i],fy[i]), spot_size, edgecolor = color, fill = False)\n",
    "    ax2.add_artist(c)\n",
    "    \n",
    "#### Lines\n",
    "\n",
    "for x_mm in [-2.9,-1]:\n",
    "    ax2.plot([x_mm,x_mm],[-10,10], lw=2, ls='dashed')\n",
    "ax2.lines[0].set_color('c')\n",
    "ax2.lines[1].set_color('red')"
   ]
  },
  {
   "cell_type": "markdown",
   "metadata": {},
   "source": [
    "#### 7. Lineouts\n",
    "You can create lineouts to get a quantitative feel for how the electron density changes.\n",
    "\n",
    "This default example takes a lineout along a line of constant x. Start is the coordinates in mm of the start point (y,x), end is the coordinates in mm of the end point, and the lineout_width is the width in mm. Note that the width is the total width of lineout, so a lineout of width w averages over -w/2 to + w/2 around the line.\n",
    "\n",
    "Creating a lineout results in two new properties of s: the linout, lo, and the scale, mm. Note that the scale is centered around the mid-point of the line by default (so runs from -line_length/2 to line_length_2). this may not be appropriate for your lineouts, so remember to shift s.mm of create a new array which represents your lineout.\n",
    "\n",
    "Changing this to a lineout along some arbitrary direction, simply change start and end - and be careful with what s.mm really represents!"
   ]
  },
  {
   "cell_type": "code",
   "execution_count": null,
   "metadata": {},
   "outputs": [],
   "source": [
    "fig, ax = plt.subplots(figsize=(6, 3), sharey=True)    \n",
    "\n",
    "w = 0.1\n",
    "\n",
    "x_mm = -3\n",
    "s  =s1006_15_532\n",
    "s.create_lineout(start = (-10, x_mm), end = (10, x_mm), lineout_width_mm = w)\n",
    "ax.plot(s.mm, s.lo*1e-18, label=\"x = \"+str(x_mm)+\" mm\", lw=2, c='c')  \n",
    "\n",
    "x_mm = -1\n",
    "s.create_lineout(start = (-10, x_mm), end = (10, x_mm), lineout_width_mm = w)\n",
    "ax.plot(s.mm, s.lo*1e-18, label=\"x = \"+str(x_mm)+\" mm\", lw=2, c='red') \n",
    "\n",
    "ax.set_xlabel('y [mm]', fontsize=10)\n",
    "ax.set_xlim([-10,10])\n",
    "ax.set_xticks([-10,-5,0,5,10])\n",
    "ax.xaxis.set_minor_locator(MultipleLocator(5))\n",
    "\n",
    "ax.set_ylim([0,1.5])\n",
    "ax.set_yticks([0,0.5,1,1.5])\n",
    "ax.set_ylabel(r'$n_e$ ($\\times$ 10$^{18}$ cm$^{-3}$)', fontsize=10)\n",
    "\n",
    "ax.grid()\n",
    "ax.legend()\n",
    "\n",
    "fig.tight_layout()"
   ]
  },
  {
   "cell_type": "markdown",
   "metadata": {},
   "source": [
    "#### 8. Save Figures\n",
    "You can save any figure using the code below.  For lines, I suggest .pdf, and for images I suggest .png."
   ]
  },
  {
   "cell_type": "code",
   "execution_count": null,
   "metadata": {},
   "outputs": [],
   "source": [
    "folder=r'~\\some\\folder\\in\\your\\home\\directory\\like\\Downloads'\n",
    "fn=s.fn[:8]+' lineouts.png'\n",
    "p=os.path.expanduser(os.path.join(folder,fn))\n",
    "fig.savefig(p, dpi=600)"
   ]
  },
  {
   "cell_type": "markdown",
   "metadata": {},
   "source": [
    "#### 9. Extracting data\n",
    "\n",
    "Say, for example, you want to find the electron density at a set of points, for entry in Thomson scattering. This is a simple example of how to use mm_to_px, which selects only a single pixel. In some cases, you may wish to use a range of pixels to calculate the average density."
   ]
  },
  {
   "cell_type": "code",
   "execution_count": null,
   "metadata": {},
   "outputs": [],
   "source": [
    "#### Thomson scattering - using the same made up fibre locations as before\n",
    "\n",
    "angle = 22.5 * np.pi/180 #degrees to vertical\n",
    "spacing = 0.6 #space between fibres in mm\n",
    "f7 = (0.5, 0.1) #location of fibre 7 in mm\n",
    "fx = [f7[1] - i*spacing*np.sin(angle) for i in range(-7,7)]\n",
    "fy = [f7[0] - i*spacing*np.cos(angle) for i in range(-7,7)]\n",
    "\n",
    "n_e = []\n",
    "\n",
    "for x, y in zip(fx, fy):\n",
    "    px = s.mm_to_px((y, x)) # here we use the (vertical, horizontal) convention\n",
    "    n_e_at_px = s.data_c[px]\n",
    "    n_e.append(n_e_at_px)\n",
    "    \n",
    "print(n_e)"
   ]
  },
  {
   "cell_type": "code",
   "execution_count": null,
   "metadata": {},
   "outputs": [],
   "source": []
  }
 ],
 "metadata": {
  "anaconda-cloud": {},
  "kernelspec": {
   "display_name": "Python 3",
   "language": "python",
   "name": "python3"
  },
  "language_info": {
   "codemirror_mode": {
    "name": "ipython",
    "version": 3
   },
   "file_extension": ".py",
   "mimetype": "text/x-python",
   "name": "python",
   "nbconvert_exporter": "python",
   "pygments_lexer": "ipython3",
   "version": "3.7.6"
  },
  "widgets": {
   "state": {
    "d35b270067324c0fbd97f6df6ff402b9": {
     "views": [
      {
       "cell_index": 15
      }
     ]
    },
    "e93f3db1b349480288fd53919d41526c": {
     "views": [
      {
       "cell_index": 45
      }
     ]
    }
   },
   "version": "1.2.0"
  }
 },
 "nbformat": 4,
 "nbformat_minor": 2
}
