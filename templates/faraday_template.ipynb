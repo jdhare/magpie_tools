{
 "cells": [
  {
   "cell_type": "code",
   "execution_count": null,
   "metadata": {
    "scrolled": true
   },
   "outputs": [],
   "source": [
    "%load_ext autoreload\n",
    "%autoreload 2\n",
    "\n",
    "%matplotlib notebook\n",
    "import numpy as np\n",
    "import matplotlib.pyplot as plt\n",
    "import pickle\n",
    "from magpie_data import NeLMap, FaradayMap, PolarimetryMap, InterferogramOntoPolarimetry\n",
    "from mpl_toolkits.axes_grid1 import make_axes_locatable\n",
    "import os"
   ]
  },
  {
   "cell_type": "markdown",
   "metadata": {},
   "source": [
    "# Polarimetry\n",
    "This code block will result in a polarogram, a map of the rotation of the linear polarisation of the probing laser beam.\n",
    "#### 1. Folder where data is stored\n",
    "On Windows, you can shift+right-click a folder and choose \"Copy as Path\""
   ]
  },
  {
   "cell_type": "code",
   "execution_count": null,
   "metadata": {},
   "outputs": [],
   "source": [
    "%cd \"C:\\Users\\jdhare\\Google Drive\\MAGPIE\\data\\2017\\s0919_17 C reconnection Faraday\\s0919_17 Faraday\""
   ]
  },
  {
   "cell_type": "markdown",
   "metadata": {},
   "source": [
    "#### 2. Filenames\n",
    "R0 and R1 are registration images for cameras 0 and 1, which are often the same as B0 and B1, the background images for cameras 0 and 1. S0 and S1 are shot images for cameras 0 and 1. You may have separate registration images if you're using a load which doesn't cast a good shadow with lots of sharpo edges, like a radial foil.\n",
    "\n",
    "These filenames are entered into a Polarimetry object called s, which has all the functions to process them. You should rotate the images here using rot_angle. Work out the rotation you want with Photoshop by looking at image R0. The rotation angle is in degrees counter clockwise, so clockwise rotations are negative numbers."
   ]
  },
  {
   "cell_type": "code",
   "execution_count": null,
   "metadata": {},
   "outputs": [],
   "source": [
    "R0fn='s0919_17_155048_c1.png'\n",
    "R1fn='s0919_17_155106_c2.png'\n",
    "B0fn=R0fn\n",
    "B1fn=R1fn\n",
    "S0fn='s0919_17_155920_c1.png'\n",
    "S1fn='s0919_17_155938_c2.png'\n",
    "s=PolarimetryMap(R0fn, R1fn, B0fn, B1fn, S0fn, S1fn, rot_angle=-1.8)"
   ]
  },
  {
   "cell_type": "markdown",
   "metadata": {},
   "source": [
    "### 3a. Either perform image registration\n",
    "Or go to 3b. below to load an existing transform.\n",
    "#### Initial Inspection\n",
    "This plots the initial registration images side by side, with a linked zoom. Use these to find good guesses at the transform for the contraints dictionary below."
   ]
  },
  {
   "cell_type": "code",
   "execution_count": null,
   "metadata": {
    "scrolled": false
   },
   "outputs": [],
   "source": [
    "fig, ax=plt.subplots(1,2,sharex=True, sharey=True,figsize=(10,4))\n",
    "ax[0].imshow(s.R0, clim=[0,0.1], cmap='gray')\n",
    "ax[1].imshow(s.R1, clim=[0,0.1], cmap='gray')"
   ]
  },
  {
   "cell_type": "markdown",
   "metadata": {},
   "source": [
    "#### Set constraints\n",
    "This dictionary contains a good initial guess at the transform between the two registration images, as well as a constraint, eg. 'tx':(100,10) means that the x-transform is likely to be +100 pixels, +/- 10 pixels. Tighter contraint converge faster but might miss the correct solution! For polarimetry, angle is ~0 and scale ~1 as there aren't enough optics to rotate or zoom the images between the cameras.\n",
    "* Sign convention: +100 means the RIGHT image must be shifted by 100 pixels DOWN/RIGHT to match the LEFT image"
   ]
  },
  {
   "cell_type": "code",
   "execution_count": null,
   "metadata": {},
   "outputs": [],
   "source": [
    "constraints={'angle':(0,2),'scale':(1,0.1),'tx':(-80,30),'ty':(+70,30)}"
   ]
  },
  {
   "cell_type": "markdown",
   "metadata": {},
   "source": [
    "#### Register images\n",
    "This cell takes a long time to execute, using the constraints above to perform a discrete Fourier transform based technique to overlap the images."
   ]
  },
  {
   "cell_type": "code",
   "execution_count": null,
   "metadata": {},
   "outputs": [],
   "source": [
    "s.register(constraints=constraints)\n",
    "s.transform_images()"
   ]
  },
  {
   "cell_type": "markdown",
   "metadata": {},
   "source": [
    "#### Inspect transform\n",
    "This cell shows four images - the two images on the top row are the original registration images. The bottom left image is the transformed version of the top right image - it should overlap the top left image. The bottom right image is the difference between the top and bottom left images, plotted with a diverging colour scale. Ideally, sharp objects would show up in white, but they often have a blue/red halo indicating the transform isn't perfect. \n",
    "\n",
    "In reality, due to effects from differing spherical abberation in the two images, it is not possible to get a perfect registration everywhere. If the registration looks good, move on to pickle the transform. If you're not happy, tighten the constraints and run again, or use the nudge tool below."
   ]
  },
  {
   "cell_type": "code",
   "execution_count": null,
   "metadata": {},
   "outputs": [],
   "source": [
    "fig, ax=plt.subplots(2,2,sharex=True, sharey=True,figsize=(10,8))\n",
    "ax[0,0].imshow(s.R0, clim=[0,0.1], cmap='gray')\n",
    "ax[0,1].imshow(s.R1, clim=[0,0.1], cmap='gray')\n",
    "ax[1,0].imshow(s.RT, clim=[0,0.1], cmap='gray')\n",
    "ax[1,1].imshow(s.R0-s.RT, clim=[-0.1,0.1], cmap='bwr')"
   ]
  },
  {
   "cell_type": "markdown",
   "metadata": {},
   "source": [
    "#### Nudge the transform\n",
    "Often the transform is close, but not perfect. In particular, it might not be well aligned in the region you're most interested in, and you can sacrifice alignment in another region to perfect it here. Run the cell below and use the sliders to alter the translation, scale and angle. You can also change the limits of the colour map. The sliders can be moved by clicking and dragging, using the arrow keys or by clicking the text and typing in a number."
   ]
  },
  {
   "cell_type": "code",
   "execution_count": null,
   "metadata": {},
   "outputs": [],
   "source": [
    "s.nudge_transform()"
   ]
  },
  {
   "cell_type": "markdown",
   "metadata": {},
   "source": [
    "#### Confirm the nudge\n",
    "If you're happy with the new nudge version, use confirm nudge to save it. Or you can ignore this cell and discard your nudge by going straight to the cell below."
   ]
  },
  {
   "cell_type": "code",
   "execution_count": null,
   "metadata": {},
   "outputs": [],
   "source": [
    "s.confirm_nudge()"
   ]
  },
  {
   "cell_type": "markdown",
   "metadata": {},
   "source": [
    "#### Pickle transform\n",
    "Pickling is python's name for saving a copy of an object - in this case the dictionary containing the successful transform. The cell below saves a file called eg. s1003_17 faraday trgistration.p into the folder with the faraday images. It can then be loaded using step 3b. below in future."
   ]
  },
  {
   "cell_type": "code",
   "execution_count": null,
   "metadata": {},
   "outputs": [],
   "source": [
    "s.save_transform(fn=s.fn[:8]+' faraday registration.p')\n",
    "s.transform_images()"
   ]
  },
  {
   "cell_type": "markdown",
   "metadata": {},
   "source": [
    "## 3b. Or load an existing registration\n",
    "Unpickle a previous transform. Don't try and reuse transforms between shots, it rarely works well..."
   ]
  },
  {
   "cell_type": "code",
   "execution_count": null,
   "metadata": {},
   "outputs": [],
   "source": [
    "s.load_transform()\n",
    "s.transform_images()"
   ]
  },
  {
   "cell_type": "markdown",
   "metadata": {},
   "source": [
    "#### Plot the data to check it looks okay\n",
    "By default, this uses a diverging blue-white-red colour scale. You can alter the limits of the colormap by altering 'clim=[-2,2]', but keep the numbers symmetric otherwise the scale makes no sense..."
   ]
  },
  {
   "cell_type": "code",
   "execution_count": null,
   "metadata": {},
   "outputs": [],
   "source": [
    "s.convert_to_alpha()\n",
    "s.plot_data_px(clim=[-2,2])"
   ]
  },
  {
   "cell_type": "markdown",
   "metadata": {},
   "source": [
    "#### 4. Assign scale, origin and crop\n",
    "The scale is probably 59.5 pixels/mm, but you can check if you have an item of hardware you're sure of the size of.\n",
    "The origin is in (x,y) pixel coordinates. Photoshop is the best tool to find these, using the Ruler tool, but you can get a rough idea from the plots of the reigstration images above.\n",
    "Extent is the region to be cropped in the form [bottom,top,left,right], in mm. Eg. [-5,10,0,4] selects a region from -5 to 10 mm (measured from the set origin) in y, and 0 to 4 mm in x."
   ]
  },
  {
   "cell_type": "code",
   "execution_count": null,
   "metadata": {},
   "outputs": [],
   "source": [
    "s.scale=59.5\n",
    "s.set_origin((1329,1554), extent=[-12,12,-10,10])"
   ]
  },
  {
   "cell_type": "markdown",
   "metadata": {},
   "source": [
    "#### 5. Make a nice plot\n",
    "This code makes a neat plot of your data. You can change the limits of the colourmap by changing max_angle. The axies labels are z and x by default, reflecting the most common Magpie experiments."
   ]
  },
  {
   "cell_type": "code",
   "execution_count": null,
   "metadata": {},
   "outputs": [],
   "source": [
    "max_angle=1.0\n",
    "\n",
    "fig, ax=plt.subplots(figsize=(6.5,8))\n",
    "far=s.plot_data_mm(ax=ax, clim=[-max_angle,max_angle])\n",
    "\n",
    "ax.set_xlabel('x (mm)')\n",
    "ax.set_ylabel('z (mm)')\n",
    "\n",
    "#ax.set_xticks([-20,-15,-10,-5,0]) # you can use these to specify which tick labels you have\n",
    "#ax.set_yticks([-10,-5,0,5,10])\n",
    "\n",
    "ax.tick_params(pad=5, length=5, width=1)\n",
    "ax.get_yaxis().set_label_coords(-0.1,0.5)\n",
    "\n",
    "ax_cb = make_axes_locatable(ax).new_horizontal(size=\"5%\", pad=0.05)\n",
    "fig.add_axes(ax_cb)\n",
    "fig.colorbar(far, cax=ax_cb, ticks=[-max_angle,max_angle])\n",
    "ax_cb.set_ylabel(r'Rotation Angle $\\alpha$ ($^{\\circ}$)')\n",
    "ax_cb.tick_params(pad=5, length=8, width=1)"
   ]
  },
  {
   "cell_type": "markdown",
   "metadata": {},
   "source": [
    "#### 7. Save the plot\n",
    "The filename is set automatically, but you can choose which folder the image goes in - good if you're making pictures for a conference and don't want to move them."
   ]
  },
  {
   "cell_type": "code",
   "execution_count": null,
   "metadata": {},
   "outputs": [],
   "source": [
    "folder=r'~\\some\\folder\\in\\your\\home\\directory\\like\\Downloads'\n",
    "fn=s.fn[:8]+' polarogram.png'\n",
    "p=os.path.expanduser(os.path.join(folder,fn))\n",
    "fig.savefig(p, dpi=600)"
   ]
  },
  {
   "cell_type": "markdown",
   "metadata": {},
   "source": [
    "#### 6. Lineouts\n",
    "You can create lineouts to get a quantitative feel for how the polarisation angle changes.\n",
    "\n",
    "This default example takes a lineout along a line of constant z. Start is the coordinates in mm of the start point (x,y), end is the coordinates in mm of the end point, and the lineout_width_mm is the width in mm. Note that the width is the total width of lineout, so a lineout of h averages over -h/2 to + h/2 around the line.\n",
    "\n",
    "Changing this to a lineout along constant x is simple, just change the start and end coordinates.\n",
    "\n",
    "The mm scale for these lineouts is hard to define (think about diagonal lines), so we create a new array (x) using linspace to plot with."
   ]
  },
  {
   "cell_type": "code",
   "execution_count": null,
   "metadata": {},
   "outputs": [],
   "source": [
    "zz=0\n",
    "xstart=-5\n",
    "xend=5\n",
    "s.create_lineout(start=(zz,xstart),end=(zz,xend),lineout_width_mm=1)\n",
    "\n",
    "fig,ax=plt.subplots(figsize=(8,4))\n",
    "x=np.linspace(xstart,xend,s.mm.size)\n",
    "ax.plot(x,s.lo, lw=2)\n",
    "ax.set_xlabel('x (mm)')\n",
    "ax.set_ylabel(r'Rotation Angle $\\alpha$ ($^{\\circ}$)')"
   ]
  },
  {
   "cell_type": "markdown",
   "metadata": {},
   "source": [
    "#### 8. Save lineouts\n",
    "As above!"
   ]
  },
  {
   "cell_type": "code",
   "execution_count": null,
   "metadata": {
    "collapsed": true
   },
   "outputs": [],
   "source": [
    "folder=r'~\\some\\folder\\in\\your\\home\\directory\\like\\Downloads'\n",
    "fn=s.fn[:8]+' lineout.png'\n",
    "p=os.path.expanduser(os.path.join(folder,fn))\n",
    "fig.savefig(p, dpi=600)"
   ]
  },
  {
   "cell_type": "markdown",
   "metadata": {},
   "source": [
    "# Overlay Interferometry\n",
    "This is a less used code block, but it can be useful to work out whether a given shot is worth tracing the interferometry for. It overlays a transparent version of the shot interferogram onto the polarimetry map so you can compare fringe shifts to rotation angles.\n",
    "\n",
    "The good news is that if you do the image registration here, you can reuse it in for the electron density map to work out the magnetic field in the final section. This is pretty good!\n",
    "#### Load the files\n",
    "Change to the folder where the interferometry data is stored, usually the level above where the Faraday data is stored.\n",
    "\n",
    "I0 is a shadow image which corresponds to the R0 image above - it should have the same features in, and no interference fringes!\n",
    "\n",
    "I1 is the shot interferogram.\n",
    "\n",
    "IO is an object that has functions to place the interferogram onto the rotation map. It contains the Polarimetry object s."
   ]
  },
  {
   "cell_type": "code",
   "execution_count": null,
   "metadata": {},
   "outputs": [],
   "source": [
    "%cd \"C:\\Users\\jdhare\\Google Drive\\MAGPIE\\data\\2017\\s0919_17 C reconnection Faraday\"\n",
    "I0fn=\"s0919_17 IR side on interferometry (2).JPG\"\n",
    "I1fn=\"s0919_17 IR side on interferometry (1).JPG\"\n",
    "I=InterferogramOntoPolarimetry(s, I0fn, I1fn)"
   ]
  },
  {
   "cell_type": "markdown",
   "metadata": {},
   "source": [
    "### 3a. Either perform image registration\n",
    "Or go to 3b. below to load an existing transform.\n",
    "#### Initial Inspection\n",
    "This plots the initial registration images side by side, with a linked zoom. Use these to find good guesses at the transform for the contraints dictionary below."
   ]
  },
  {
   "cell_type": "code",
   "execution_count": null,
   "metadata": {
    "scrolled": false
   },
   "outputs": [],
   "source": [
    "fig, ax=plt.subplots(1,2,sharex=True, sharey=True,figsize=(8,3))\n",
    "ax[0].imshow(I.R0, clim=[0,0.1], cmap='gray')\n",
    "ax[1].imshow(I.R1, clim=[0,0.1], cmap='gray')"
   ]
  },
  {
   "cell_type": "markdown",
   "metadata": {},
   "source": [
    "#### Set constraints\n",
    "This dictionary contains a good initial guess at the transform between the two registration images, as well as a constraint, eg. 'tx':(100,10) means that the x-transform is likely to be +100 pixels, +/- 10 pixels. Tighter contraint converge faster but might miss the correct solution! For aligning interferometry on Faraday, the scale is around 0.7, rotation can be relatively large and the translation is similarly big - the registration takes time and will need to be iterated - it's tedious!"
   ]
  },
  {
   "cell_type": "code",
   "execution_count": null,
   "metadata": {},
   "outputs": [],
   "source": [
    "constraints={'angle':(-2,3),'scale':(0.79,0.05),'tx':(-460,100),'ty':(-50,100)}"
   ]
  },
  {
   "cell_type": "markdown",
   "metadata": {},
   "source": [
    "#### Register images\n",
    "This cell takes a long time to execute, using the constraints above to perform a discrete Fourier transform based technique to overlap the images."
   ]
  },
  {
   "cell_type": "code",
   "execution_count": null,
   "metadata": {},
   "outputs": [],
   "source": [
    "I.register(constraints=constraints)\n",
    "I.transform_images()"
   ]
  },
  {
   "cell_type": "markdown",
   "metadata": {},
   "source": [
    "#### Inspect transform\n",
    "This cell shows four images - the two images on the top row are the original registration images. The bottom left image is the transformed version of the top right image - it should overlap the top left image. The bottom right image is the difference between the top and bottom left images, plotted with a diverging colour scale. Ideally, sharp objects would show up in white, but they often have a blue/red halo indicating the transform isn't perfect. \n",
    "\n",
    "In reality, due to effects from differing spherical abberation in the two images, it is not possible to get a perfect registration everywhere. If the registration looks good, move on to pickle the transform. If you're not happy, tighten the constraints and run again, or use the nudge tool below."
   ]
  },
  {
   "cell_type": "code",
   "execution_count": null,
   "metadata": {},
   "outputs": [],
   "source": [
    "fig, ax=plt.subplots(2,2,sharex=True, sharey=True,figsize=(8,6))\n",
    "ax[0,0].imshow(I.R0, clim=[0,0.1], cmap='gray')\n",
    "ax[0,1].imshow(I.R1, clim=[0,1], cmap='gray')\n",
    "ax[1,0].imshow(I.RT, clim=[0,0.1], cmap='gray')\n",
    "ax[1,1].imshow(I.R0-0.5*I.RT, clim=[-0.1,0.1], cmap='bwr')"
   ]
  },
  {
   "cell_type": "markdown",
   "metadata": {},
   "source": [
    "#### Nudge the transform\n",
    "Often the transform is close, but not perfect. In particular, it might not be well aligned in the region you're most interested in, and you can sacrifice alignment in another region to perfect it here. Run the cell below and use the sliders to alter the translation, scale and angle. You can also change the limits of the colour map. The sliders can be moved by clicking and dragging, using the arrow keys or by clicking the text and typing in a number."
   ]
  },
  {
   "cell_type": "code",
   "execution_count": null,
   "metadata": {},
   "outputs": [],
   "source": [
    "I.nudge_transform()"
   ]
  },
  {
   "cell_type": "markdown",
   "metadata": {},
   "source": [
    "#### Confirm the nudge\n",
    "If you're happy with the new nudge version, use confirm nudge to save it. Or you can ignore this cell and discard your nudge by going straight to the cell below."
   ]
  },
  {
   "cell_type": "code",
   "execution_count": null,
   "metadata": {},
   "outputs": [],
   "source": [
    "I.confirm_nudge()"
   ]
  },
  {
   "cell_type": "markdown",
   "metadata": {},
   "source": [
    "#### Pickle transform\n",
    "Pickling is python's name for saving a copy of an object - in this case the dictionary containing the successful transform. The cell below saves a file called eg. s1003_17 faraday trgistration.p into the folder with the faraday images. It can then be loaded using step 3b. below in future."
   ]
  },
  {
   "cell_type": "code",
   "execution_count": null,
   "metadata": {},
   "outputs": [],
   "source": [
    "I.save_transform(fn=s.fn[:8]+' interferometry registration.p')\n",
    "I.transform_images()"
   ]
  },
  {
   "cell_type": "markdown",
   "metadata": {},
   "source": [
    "## 3b. Or load an existing registration\n",
    "Unpickle a previous transform. Don't try and reuse transforms between shots, it rarely works well..."
   ]
  },
  {
   "cell_type": "code",
   "execution_count": null,
   "metadata": {},
   "outputs": [],
   "source": [
    "I.load_transform()\n",
    "I.transform_images()"
   ]
  },
  {
   "cell_type": "markdown",
   "metadata": {},
   "source": [
    "## 4. Overlay Interferogram on Polarogram\n",
    "First run the cell below to copy and crop area from the polarogram."
   ]
  },
  {
   "cell_type": "code",
   "execution_count": null,
   "metadata": {},
   "outputs": [],
   "source": [
    "I.scale=s.scale\n",
    "I.set_origin(s.origin, extent=s.extent[2:4]+s.extent[0:2])"
   ]
  },
  {
   "cell_type": "markdown",
   "metadata": {},
   "source": [
    "#### Plot the overlay\n",
    "You change how transparent the fringes are using alpha."
   ]
  },
  {
   "cell_type": "code",
   "execution_count": null,
   "metadata": {},
   "outputs": [],
   "source": [
    "alpha=0.6\n",
    "\n",
    "fig, ax=plt.subplots(figsize=(8,7))\n",
    "far=s.plot_data_mm(ax=ax, clim=[-1,1])\n",
    "\n",
    "ax.set_xlabel('x (mm)',fontsize=10)\n",
    "ax.set_ylabel('y (mm)',fontsize=10)\n",
    "\n",
    "ax.set_xticks([-10,-5,0,5,10,15])\n",
    "ax.set_yticks([-10,-5,0,5,10])\n",
    "\n",
    "ax.tick_params(labelsize=10, pad=5, length=10, width=2)\n",
    "ax.get_yaxis().set_label_coords(-0.1,0.5)\n",
    "\n",
    "ax.imshow(I.data_c, cmap='gray', alpha=alpha, extent=s.extent)\n",
    "\n",
    "ax_cb = make_axes_locatable(ax).new_horizontal(size=\"5%\", pad=0.05)\n",
    "fig.add_axes(ax_cb)\n",
    "fig.colorbar(far, cax=ax_cb, ticks=[-max_angle,max_angle])\n",
    "ax_cb.set_ylabel(r'Rotation Angle $\\alpha$ ($^{\\circ}$)')\n",
    "ax_cb.tick_params(pad=5, length=8, width=1)"
   ]
  },
  {
   "cell_type": "markdown",
   "metadata": {},
   "source": [
    "#### 7. Save the plot\n",
    "The filename is set automatically, but you can choose which folder the image goes in - good if you're making pictures for a conference and don't want to move them."
   ]
  },
  {
   "cell_type": "code",
   "execution_count": null,
   "metadata": {
    "collapsed": true
   },
   "outputs": [],
   "source": [
    "folder=r'C:\\Users\\jdhare\\Google Drive\\MAGPIE\\data\\2017\\s0919_17 C reconnection Faraday'\n",
    "fn=s.fn[:8]+' polarogram with interferometry.png'\n",
    "p=os.path.expanduser(os.path.join(folder,fn))\n",
    "fig.savefig(p, dpi=600)"
   ]
  },
  {
   "cell_type": "markdown",
   "metadata": {},
   "source": [
    "# Bring in The Density Map"
   ]
  },
  {
   "cell_type": "code",
   "execution_count": null,
   "metadata": {},
   "outputs": [],
   "source": [
    "I0fn=\"s0919_17 IR side on interferometry (2).JPG\"\n",
    "nefn=\"s0919_17 IR side on neL.txt\"\n",
    "b=FaradayMap(s, I0fn, nefn)"
   ]
  },
  {
   "cell_type": "markdown",
   "metadata": {},
   "source": [
    "#### 1. Load the transform\n",
    "This is the same transform generated when the interferogram was registered to the polarimetry data, and so it can be reused."
   ]
  },
  {
   "cell_type": "code",
   "execution_count": null,
   "metadata": {},
   "outputs": [],
   "source": [
    "b.load_transform()\n",
    "b.transform_images()"
   ]
  },
  {
   "cell_type": "markdown",
   "metadata": {},
   "source": [
    "#### 2. Clip data\n",
    "In regions where there is no electron density data (inside the mask), this results in a very large field, as we are dividing the rotation angle by a very small number. It is useful to mask this data.\n",
    "Set the value clip below: data outside -clip to +clip will be set to NaN. A relatively large number is reasonable to avoid your data being spoiled by white spots."
   ]
  },
  {
   "cell_type": "code",
   "execution_count": null,
   "metadata": {},
   "outputs": [],
   "source": [
    "clip=100\n",
    "\n",
    "b.convert_to_magnetic_field()\n",
    "b.B[(b.B<-clip)|(b.B>clip)]=np.nan\n",
    "b.scale=s.scale\n",
    "b.set_origin(s.origin, extent=s.extent[2:4]+[-5,5])"
   ]
  },
  {
   "cell_type": "markdown",
   "metadata": {},
   "source": [
    "#### 3. Plot magnetic field map\n",
    "We take the scale and origin from the polarimetry data, as before, and plot the magnetic field between -max_field and +max_field. "
   ]
  },
  {
   "cell_type": "code",
   "execution_count": null,
   "metadata": {},
   "outputs": [],
   "source": [
    "max_field=3\n",
    "\n",
    "fig, ax=plt.subplots(figsize=(6.5,8))\n",
    "far=b.plot_data_mm(ax=ax, clim=[-max_field,max_field])\n",
    "\n",
    "ax.set_xlabel('x (mm)')\n",
    "ax.set_ylabel('z (mm)')\n",
    "\n",
    "#ax.set_xticks([-20,-15,-10,-5,0]) # you can use these to specify which tick labels you have\n",
    "#ax.set_yticks([-10,-5,0,5,10])\n",
    "\n",
    "ax.tick_params(pad=5, length=5, width=1)\n",
    "ax.get_yaxis().set_label_coords(-0.1,0.5)\n",
    "\n",
    "ax_cb = make_axes_locatable(ax).new_horizontal(size=\"5%\", pad=0.05)\n",
    "fig.add_axes(ax_cb)\n",
    "fig.colorbar(far, cax=ax_cb, ticks=[-max_field,0, max_field])\n",
    "ax_cb.set_ylabel(r'Magnetic Field $B$ ($T$)')\n",
    "ax_cb.tick_params(pad=5, length=8, width=1)"
   ]
  },
  {
   "cell_type": "markdown",
   "metadata": {},
   "source": [
    "#### 4. Save the image\n",
    "Obviously at this point you'll want to save an image of your beautiful data:"
   ]
  },
  {
   "cell_type": "code",
   "execution_count": null,
   "metadata": {
    "collapsed": true
   },
   "outputs": [],
   "source": [
    "folder=r'C:\\Users\\jdhare\\Google Drive\\MAGPIE\\data\\2017\\s0919_17 C reconnection Faraday'\n",
    "fn=s.fn[:8]+' faraday.png'\n",
    "p=os.path.expanduser(os.path.join(folder,fn))\n",
    "fig.savefig(p, dpi=600)"
   ]
  },
  {
   "cell_type": "markdown",
   "metadata": {},
   "source": [
    "#### 5. Lineouts\n",
    "You can create lineouts to get a quantitative feel for how the polarisation angle changes.\n",
    "\n",
    "This default example takes a lineout along a line of constant z. Start is the coordinates in mm of the start point (x,y), end is the coordinates in mm of the end point, and the lineout_width is the width in pixels (so we usually use s.scale* some number in mm to set a width in mm). Note that the width is the total width of lineout, so a lineout of h averages over -h/2 to + h/2 around the line.\n",
    "\n",
    "Changing this to a lineout along constant x is simple, just change the start and end coordinates.\n",
    "\n",
    "The mm scale for these lineouts is hard to define (think about diagonal lines), so we create a new array (x) using linspace to plot with."
   ]
  },
  {
   "cell_type": "code",
   "execution_count": null,
   "metadata": {},
   "outputs": [],
   "source": [
    "zz=0\n",
    "xstart=-5\n",
    "xend=5\n",
    "b.create_lineout(start=(zz,xstart),end=(zz,xend),lineout_width_mm=10)\n",
    "\n",
    "fig,ax=plt.subplots(figsize=(8,4))\n",
    "x=np.linspace(xstart,xend,b.mm.size)\n",
    "ax.plot(x,b.lo, lw=2)\n",
    "ax.set_xlabel('x (mm)')\n",
    "ax.set_ylabel(r'Rotation Angle $\\alpha$ ($^{\\circ}$)')"
   ]
  },
  {
   "cell_type": "markdown",
   "metadata": {},
   "source": [
    "#### 6. Save lineouts\n",
    "As above!"
   ]
  },
  {
   "cell_type": "code",
   "execution_count": null,
   "metadata": {
    "collapsed": true
   },
   "outputs": [],
   "source": [
    "folder=r'~\\some\\folder\\in\\your\\home\\directory\\like\\Downloads'\n",
    "fn=s.fn[:8]+' lineout.png'\n",
    "p=os.path.expanduser(os.path.join(folder,fn))\n",
    "fig.savefig(p, dpi=600)"
   ]
  }
 ],
 "metadata": {
  "anaconda-cloud": {},
  "kernelspec": {
   "display_name": "Python 3",
   "language": "python",
   "name": "python3"
  },
  "language_info": {
   "codemirror_mode": {
    "name": "ipython",
    "version": 3
   },
   "file_extension": ".py",
   "mimetype": "text/x-python",
   "name": "python",
   "nbconvert_exporter": "python",
   "pygments_lexer": "ipython3",
   "version": "3.7.6"
  },
  "widgets": {
   "state": {
    "d35b270067324c0fbd97f6df6ff402b9": {
     "views": [
      {
       "cell_index": 15
      }
     ]
    },
    "e93f3db1b349480288fd53919d41526c": {
     "views": [
      {
       "cell_index": 45
      }
     ]
    }
   },
   "version": "1.2.0"
  }
 },
 "nbformat": 4,
 "nbformat_minor": 2
}
